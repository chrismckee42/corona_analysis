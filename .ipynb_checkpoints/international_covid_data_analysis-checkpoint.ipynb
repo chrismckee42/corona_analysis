{
 "cells": [
  {
   "cell_type": "markdown",
   "metadata": {},
   "source": [
    "## International Covid Data Analysis"
   ]
  },
  {
   "cell_type": "code",
   "execution_count": 1,
   "metadata": {},
   "outputs": [],
   "source": [
    "import os\n",
    "os.chdir(\"../COVID-19/csse_covid_19_data/csse_covid_19_daily_reports\")\n",
    "o_file_list = os.listdir()"
   ]
  },
  {
   "cell_type": "code",
   "execution_count": 2,
   "metadata": {},
   "outputs": [],
   "source": [
    "# file_list\n",
    "file_list=o_file_list[1:-1]"
   ]
  },
  {
   "cell_type": "code",
   "execution_count": 3,
   "metadata": {},
   "outputs": [],
   "source": [
    "import pandas as pd"
   ]
  },
  {
   "cell_type": "code",
   "execution_count": 4,
   "metadata": {},
   "outputs": [],
   "source": [
    "stats = []\n",
    "for i,item in enumerate(file_list):\n",
    "    stats.append(pd.read_csv(item))"
   ]
  },
  {
   "cell_type": "code",
   "execution_count": 5,
   "metadata": {},
   "outputs": [
    {
     "data": {
      "text/html": [
       "<div>\n",
       "<style scoped>\n",
       "    .dataframe tbody tr th:only-of-type {\n",
       "        vertical-align: middle;\n",
       "    }\n",
       "\n",
       "    .dataframe tbody tr th {\n",
       "        vertical-align: top;\n",
       "    }\n",
       "\n",
       "    .dataframe thead th {\n",
       "        text-align: right;\n",
       "    }\n",
       "</style>\n",
       "<table border=\"1\" class=\"dataframe\">\n",
       "  <thead>\n",
       "    <tr style=\"text-align: right;\">\n",
       "      <th></th>\n",
       "      <th>Province/State</th>\n",
       "      <th>Country/Region</th>\n",
       "      <th>Last Update</th>\n",
       "      <th>Confirmed</th>\n",
       "      <th>Deaths</th>\n",
       "      <th>Recovered</th>\n",
       "    </tr>\n",
       "  </thead>\n",
       "  <tbody>\n",
       "    <tr>\n",
       "      <th>0</th>\n",
       "      <td>Hubei</td>\n",
       "      <td>Mainland China</td>\n",
       "      <td>2/1/2020 11:53</td>\n",
       "      <td>7153</td>\n",
       "      <td>249</td>\n",
       "      <td>168</td>\n",
       "    </tr>\n",
       "    <tr>\n",
       "      <th>1</th>\n",
       "      <td>Zhejiang</td>\n",
       "      <td>Mainland China</td>\n",
       "      <td>2/1/2020 10:53</td>\n",
       "      <td>599</td>\n",
       "      <td>0</td>\n",
       "      <td>21</td>\n",
       "    </tr>\n",
       "    <tr>\n",
       "      <th>2</th>\n",
       "      <td>Guangdong</td>\n",
       "      <td>Mainland China</td>\n",
       "      <td>2/1/2020 14:23</td>\n",
       "      <td>535</td>\n",
       "      <td>0</td>\n",
       "      <td>14</td>\n",
       "    </tr>\n",
       "    <tr>\n",
       "      <th>3</th>\n",
       "      <td>Henan</td>\n",
       "      <td>Mainland China</td>\n",
       "      <td>2/1/2020 1:52</td>\n",
       "      <td>422</td>\n",
       "      <td>2</td>\n",
       "      <td>3</td>\n",
       "    </tr>\n",
       "    <tr>\n",
       "      <th>4</th>\n",
       "      <td>Hunan</td>\n",
       "      <td>Mainland China</td>\n",
       "      <td>2/1/2020 11:03</td>\n",
       "      <td>389</td>\n",
       "      <td>0</td>\n",
       "      <td>8</td>\n",
       "    </tr>\n",
       "  </tbody>\n",
       "</table>\n",
       "</div>"
      ],
      "text/plain": [
       "  Province/State  Country/Region     Last Update  Confirmed  Deaths  Recovered\n",
       "0          Hubei  Mainland China  2/1/2020 11:53       7153     249        168\n",
       "1       Zhejiang  Mainland China  2/1/2020 10:53        599       0         21\n",
       "2      Guangdong  Mainland China  2/1/2020 14:23        535       0         14\n",
       "3          Henan  Mainland China   2/1/2020 1:52        422       2          3\n",
       "4          Hunan  Mainland China  2/1/2020 11:03        389       0          8"
      ]
     },
     "execution_count": 5,
     "metadata": {},
     "output_type": "execute_result"
    }
   ],
   "source": [
    "stats[10].head()"
   ]
  },
  {
   "cell_type": "code",
   "execution_count": 6,
   "metadata": {},
   "outputs": [],
   "source": [
    "nation_dict = {'US': 0,\n",
    " 'Canada': 1,\n",
    " 'United Kingdom': 2,\n",
    " 'Germany': 3,\n",
    " 'Italy': 4,\n",
    " 'Spain': 5,\n",
    " 'Brazil': 6,\n",
    " 'India': 7,\n",
    " 'China': 8,\n",
    " 'Mainland China': 8,\n",
    " 'Japan': 9,\n",
    " 'Korea, South': 10,\n",
    " 'South Korea': 10,\n",
    " 'Australia': 11}"
   ]
  },
  {
   "cell_type": "code",
   "execution_count": 7,
   "metadata": {},
   "outputs": [],
   "source": [
    "import numpy as np"
   ]
  },
  {
   "cell_type": "code",
   "execution_count": 8,
   "metadata": {},
   "outputs": [
    {
     "data": {
      "text/plain": [
       "['01-22-2020',\n",
       " '01-23-2020',\n",
       " '01-24-2020',\n",
       " '01-25-2020',\n",
       " '01-26-2020',\n",
       " '01-27-2020',\n",
       " '01-28-2020',\n",
       " '01-29-2020',\n",
       " '01-30-2020',\n",
       " '01-31-2020',\n",
       " '02-01-2020',\n",
       " '02-02-2020',\n",
       " '02-03-2020',\n",
       " '02-04-2020',\n",
       " '02-05-2020',\n",
       " '02-06-2020',\n",
       " '02-07-2020',\n",
       " '02-08-2020',\n",
       " '02-09-2020',\n",
       " '02-10-2020',\n",
       " '02-11-2020',\n",
       " '02-12-2020',\n",
       " '02-13-2020',\n",
       " '02-14-2020',\n",
       " '02-15-2020',\n",
       " '02-16-2020',\n",
       " '02-17-2020',\n",
       " '02-18-2020',\n",
       " '02-19-2020',\n",
       " '02-20-2020',\n",
       " '02-21-2020',\n",
       " '02-22-2020',\n",
       " '02-23-2020',\n",
       " '02-24-2020',\n",
       " '02-25-2020',\n",
       " '02-26-2020',\n",
       " '02-27-2020',\n",
       " '02-28-2020',\n",
       " '02-29-2020',\n",
       " '03-01-2020',\n",
       " '03-02-2020',\n",
       " '03-03-2020',\n",
       " '03-04-2020',\n",
       " '03-05-2020',\n",
       " '03-06-2020',\n",
       " '03-07-2020',\n",
       " '03-08-2020',\n",
       " '03-09-2020',\n",
       " '03-10-2020',\n",
       " '03-11-2020',\n",
       " '03-12-2020',\n",
       " '03-13-2020',\n",
       " '03-14-2020',\n",
       " '03-15-2020',\n",
       " '03-16-2020',\n",
       " '03-17-2020',\n",
       " '03-18-2020',\n",
       " '03-19-2020',\n",
       " '03-20-2020',\n",
       " '03-21-2020',\n",
       " '03-22-2020',\n",
       " '03-23-2020',\n",
       " '03-24-2020',\n",
       " '03-25-2020',\n",
       " '03-26-2020',\n",
       " '03-27-2020',\n",
       " '03-28-2020',\n",
       " '03-29-2020',\n",
       " '03-30-2020',\n",
       " '03-31-2020',\n",
       " '04-01-2020',\n",
       " '04-02-2020',\n",
       " '04-03-2020',\n",
       " '04-04-2020',\n",
       " '04-05-2020',\n",
       " '04-06-2020',\n",
       " '04-07-2020',\n",
       " '04-08-2020',\n",
       " '04-09-2020',\n",
       " '04-10-2020',\n",
       " '04-11-2020',\n",
       " '04-12-2020',\n",
       " '04-13-2020',\n",
       " '04-14-2020',\n",
       " '04-15-2020',\n",
       " '04-16-2020',\n",
       " '04-17-2020',\n",
       " '04-18-2020',\n",
       " '04-19-2020',\n",
       " '04-20-2020',\n",
       " '04-21-2020',\n",
       " '04-22-2020',\n",
       " '04-23-2020',\n",
       " '04-24-2020',\n",
       " '04-25-2020',\n",
       " '04-26-2020',\n",
       " '04-27-2020',\n",
       " '04-28-2020',\n",
       " '04-29-2020',\n",
       " '04-30-2020',\n",
       " '05-01-2020',\n",
       " '05-02-2020',\n",
       " '05-03-2020',\n",
       " '05-04-2020',\n",
       " '05-05-2020',\n",
       " '05-06-2020',\n",
       " '05-07-2020',\n",
       " '05-08-2020',\n",
       " '05-09-2020',\n",
       " '05-10-2020',\n",
       " '05-11-2020',\n",
       " '05-12-2020',\n",
       " '05-13-2020',\n",
       " '05-14-2020',\n",
       " '05-15-2020',\n",
       " '05-16-2020',\n",
       " '05-17-2020']"
      ]
     },
     "execution_count": 8,
     "metadata": {},
     "output_type": "execute_result"
    }
   ],
   "source": [
    "dates = []\n",
    "for file in file_list:\n",
    "    dates.append(file[:-4])\n",
    "dates"
   ]
  },
  {
   "cell_type": "code",
   "execution_count": 22,
   "metadata": {},
   "outputs": [
    {
     "data": {
      "text/plain": [
       "array([[      1,       1,       2, ..., 1442824, 1467820, 1486757],\n",
       "       [      0,       0,       0, ...,   75959,   77206,   78332],\n",
       "       [      0,       0,       0, ...,  238004,  241461,  244995],\n",
       "       ...,\n",
       "       [      2,       1,       2, ...,   16203,   16237,   16285],\n",
       "       [      1,       1,       2, ...,   11037,   11050,   11065],\n",
       "       [      0,       0,       0, ...,    7035,    7044,    7054]])"
      ]
     },
     "execution_count": 22,
     "metadata": {},
     "output_type": "execute_result"
    }
   ],
   "source": [
    "confirmed = np.array([[0]*len(dates)]*12)\n",
    "c_label = \"Country/Region\"\n",
    "for i,x in enumerate(stats):\n",
    "    if i == 60:\n",
    "        c_label = \"Country_Region\"  #starting on 3/22/20, the data changed its column label\n",
    "    for j in range(len(stats[i])):\n",
    "        if stats[i][c_label][j] in nation_dict and stats[i].Confirmed[j] > 0:\n",
    "#             print(stats[i][c_label][j],stats[i].Confirmed[j]>0)\n",
    "            confirmed[nation_dict[stats[i][c_label][j]]][i] += stats[i].Confirmed[j]\n",
    "    \n",
    "confirmed"
   ]
  },
  {
   "cell_type": "code",
   "execution_count": 11,
   "metadata": {},
   "outputs": [
    {
     "data": {
      "text/plain": [
       "'Mainland China'"
      ]
     },
     "execution_count": 11,
     "metadata": {},
     "output_type": "execute_result"
    }
   ],
   "source": [
    "stats[0][\"Country/Region\"][2]"
   ]
  },
  {
   "cell_type": "code",
   "execution_count": null,
   "metadata": {},
   "outputs": [],
   "source": []
  }
 ],
 "metadata": {
  "kernelspec": {
   "display_name": "Python 3",
   "language": "python",
   "name": "python3"
  },
  "language_info": {
   "codemirror_mode": {
    "name": "ipython",
    "version": 3
   },
   "file_extension": ".py",
   "mimetype": "text/x-python",
   "name": "python",
   "nbconvert_exporter": "python",
   "pygments_lexer": "ipython3",
   "version": "3.7.4"
  }
 },
 "nbformat": 4,
 "nbformat_minor": 4
}
